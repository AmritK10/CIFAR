{
  "nbformat": 4,
  "nbformat_minor": 0,
  "metadata": {
    "colab": {
      "name": "cifar10.ipynb",
      "version": "0.3.2",
      "provenance": [],
      "collapsed_sections": []
    },
    "kernelspec": {
      "name": "python3",
      "display_name": "Python 3"
    },
    "accelerator": "GPU"
  },
  "cells": [
    {
      "metadata": {
        "id": "A0T8R4yTdALH",
        "colab_type": "code",
        "outputId": "099108b8-3523-4f6a-a1be-86b90c62388c",
        "colab": {
          "base_uri": "https://localhost:8080/",
          "height": 34
        }
      },
      "cell_type": "code",
      "source": [
        "from keras.datasets import cifar10\n",
        "import numpy as np"
      ],
      "execution_count": 1,
      "outputs": [
        {
          "output_type": "stream",
          "text": [
            "Using TensorFlow backend.\n"
          ],
          "name": "stderr"
        }
      ]
    },
    {
      "metadata": {
        "id": "PlTnKyW5dSEs",
        "colab_type": "code",
        "outputId": "8ca7b619-acc9-4c19-f37a-d3cfb19b282e",
        "colab": {
          "base_uri": "https://localhost:8080/",
          "height": 51
        }
      },
      "cell_type": "code",
      "source": [
        "(x_train, y_train), (x_test, y_test) = cifar10.load_data()"
      ],
      "execution_count": 2,
      "outputs": [
        {
          "output_type": "stream",
          "text": [
            "Downloading data from https://www.cs.toronto.edu/~kriz/cifar-10-python.tar.gz\n",
            "170500096/170498071 [==============================] - 30s 0us/step\n"
          ],
          "name": "stdout"
        }
      ]
    },
    {
      "metadata": {
        "id": "PLBZoTN2dbVO",
        "colab_type": "code",
        "outputId": "fe42637d-b825-49ad-ef4f-aa5b5b770825",
        "colab": {
          "base_uri": "https://localhost:8080/",
          "height": 347
        }
      },
      "cell_type": "code",
      "source": [
        "import matplotlib.pyplot as plt\n",
        "plt.imshow(x_train[30])\n",
        "plt.show()"
      ],
      "execution_count": 3,
      "outputs": [
        {
          "output_type": "display_data",
          "data": {
            "image/png": "[encoded data removed]",
            "text/plain": [
              "<Figure size 576x396 with 1 Axes>"
            ]
          },
          "metadata": {
            "tags": []
          }
        }
      ]
    },
    {
      "metadata": {
        "id": "rBfb0Ydid40g",
        "colab_type": "code",
        "colab": {}
      },
      "cell_type": "code",
      "source": [
        "from keras.utils import to_categorical\n",
        "y_train=to_categorical(y_train)\n",
        "y_test=to_categorical(y_test)"
      ],
      "execution_count": 0,
      "outputs": []
    },
    {
      "metadata": {
        "id": "so3lT3BXfK2z",
        "colab_type": "code",
        "outputId": "87ac1ece-c269-4b02-daee-90dbdbf2dc9a",
        "colab": {
          "base_uri": "https://localhost:8080/",
          "height": 34
        }
      },
      "cell_type": "code",
      "source": [
        "x_train=x_train.reshape(-1,32,32,3)\n",
        "x_test=x_test.reshape(-1,32,32,3)\n",
        "\n",
        "x_train.shape,x_test.shape,y_train.shape,y_test.shape"
      ],
      "execution_count": 5,
      "outputs": [
        {
          "output_type": "execute_result",
          "data": {
            "text/plain": [
              "((50000, 32, 32, 3), (10000, 32, 32, 3), (50000, 10), (10000, 10))"
            ]
          },
          "metadata": {
            "tags": []
          },
          "execution_count": 5
        }
      ]
    },
    {
      "metadata": {
        "id": "Co-TNqfefsCg",
        "colab_type": "code",
        "colab": {}
      },
      "cell_type": "code",
      "source": [
        "x_train=x_train/255\n",
        "x_test=x_test/255"
      ],
      "execution_count": 0,
      "outputs": []
    },
    {
      "metadata": {
        "id": "spRqHud9gT8o",
        "colab_type": "code",
        "colab": {}
      },
      "cell_type": "code",
      "source": [
        "from keras.models import Model\n",
        "from keras.layers import Input,Conv2D,MaxPooling2D,Flatten,Dense,Dropout"
      ],
      "execution_count": 0,
      "outputs": []
    },
    {
      "metadata": {
        "id": "kid2wZAMgiBH",
        "colab_type": "code",
        "colab": {}
      },
      "cell_type": "code",
      "source": [
        "inputs=Input(shape=(32,32,3))\n",
        "\n",
        "c1=Conv2D(64,(3,3),padding=\"same\",activation=\"relu\")(inputs)\n",
        "m1=MaxPooling2D(padding=\"same\")(c1)\n",
        "\n",
        "drop1=Dropout(0.3)(m1)\n",
        "\n",
        "c2=Conv2D(64,(3,3),padding=\"same\",activation=\"relu\")(drop1)\n",
        "m2=MaxPooling2D(padding=\"same\")(c2)\n",
        "\n",
        "drop2=Dropout(0.3)(m2)\n",
        "\n",
        "c3=Conv2D(64,(5,5),padding=\"same\",activation=\"relu\")(drop2)\n",
        "m3=MaxPooling2D(padding=\"same\")(c3)\n",
        "\n",
        "\n",
        "drop2=Dropout(0.3)(m3)\n",
        "\n",
        "conv_out=Flatten()(drop2)\n",
        "\n",
        "d1=Dense(512,activation=\"relu\")(conv_out)\n",
        "\n",
        "out=Dense(10,activation=\"softmax\")(d1)"
      ],
      "execution_count": 0,
      "outputs": []
    },
    {
      "metadata": {
        "id": "h_b51t4dhpl0",
        "colab_type": "code",
        "colab": {}
      },
      "cell_type": "code",
      "source": [
        "model=Model(inputs=inputs,outputs=out)\n",
        "model.compile(optimizer=\"adam\",loss=\"categorical_crossentropy\",metrics=[\"accuracy\"])"
      ],
      "execution_count": 0,
      "outputs": []
    },
    {
      "metadata": {
        "id": "elOeZiweewAl",
        "colab_type": "code",
        "outputId": "5a47d34d-0838-4401-d86e-8b54712ded5a",
        "colab": {
          "base_uri": "https://localhost:8080/",
          "height": 578
        }
      },
      "cell_type": "code",
      "source": [
        "model.summary()"
      ],
      "execution_count": 15,
      "outputs": [
        {
          "output_type": "stream",
          "text": [
            "_________________________________________________________________\n",
            "Layer (type)                 Output Shape              Param #   \n",
            "=================================================================\n",
            "input_2 (InputLayer)         (None, 32, 32, 3)         0         \n",
            "_________________________________________________________________\n",
            "conv2d_4 (Conv2D)            (None, 32, 32, 64)        1792      \n",
            "_________________________________________________________________\n",
            "max_pooling2d_4 (MaxPooling2 (None, 16, 16, 64)        0         \n",
            "_________________________________________________________________\n",
            "dropout_4 (Dropout)          (None, 16, 16, 64)        0         \n",
            "_________________________________________________________________\n",
            "conv2d_5 (Conv2D)            (None, 16, 16, 64)        36928     \n",
            "_________________________________________________________________\n",
            "max_pooling2d_5 (MaxPooling2 (None, 8, 8, 64)          0         \n",
            "_________________________________________________________________\n",
            "dropout_5 (Dropout)          (None, 8, 8, 64)          0         \n",
            "_________________________________________________________________\n",
            "conv2d_6 (Conv2D)            (None, 8, 8, 64)          102464    \n",
            "_________________________________________________________________\n",
            "max_pooling2d_6 (MaxPooling2 (None, 4, 4, 64)          0         \n",
            "_________________________________________________________________\n",
            "dropout_6 (Dropout)          (None, 4, 4, 64)          0         \n",
            "_________________________________________________________________\n",
            "flatten_2 (Flatten)          (None, 1024)              0         \n",
            "_________________________________________________________________\n",
            "dense_3 (Dense)              (None, 512)               524800    \n",
            "_________________________________________________________________\n",
            "dense_4 (Dense)              (None, 10)                5130      \n",
            "=================================================================\n",
            "Total params: 671,114\n",
            "Trainable params: 671,114\n",
            "Non-trainable params: 0\n",
            "_________________________________________________________________\n"
          ],
          "name": "stdout"
        }
      ]
    },
    {
      "metadata": {
        "id": "ZJkGIXJ6jH8M",
        "colab_type": "code",
        "outputId": "16a245c2-24fd-4228-c974-e3e1328b9cb9",
        "colab": {
          "base_uri": "https://localhost:8080/",
          "height": 731
        }
      },
      "cell_type": "code",
      "source": [
        "model.fit(x_train,y_train,batch_size=64,epochs=20,validation_data=(x_test,y_test))"
      ],
      "execution_count": 16,
      "outputs": [
        {
          "output_type": "stream",
          "text": [
            "Train on 50000 samples, validate on 10000 samples\n",
            "Epoch 1/20\n",
            "50000/50000 [==============================] - 16s 318us/step - loss: 1.5603 - acc: 0.4272 - val_loss: 1.2462 - val_acc: 0.5547\n",
            "Epoch 2/20\n",
            "50000/50000 [==============================] - 15s 305us/step - loss: 1.1712 - acc: 0.5801 - val_loss: 1.0366 - val_acc: 0.6311\n",
            "Epoch 3/20\n",
            "50000/50000 [==============================] - 15s 305us/step - loss: 1.0281 - acc: 0.6340 - val_loss: 0.9461 - val_acc: 0.6705\n",
            "Epoch 4/20\n",
            "50000/50000 [==============================] - 15s 305us/step - loss: 0.9290 - acc: 0.6707 - val_loss: 0.8428 - val_acc: 0.7054\n",
            "Epoch 5/20\n",
            "50000/50000 [==============================] - 15s 304us/step - loss: 0.8674 - acc: 0.6918 - val_loss: 0.7747 - val_acc: 0.7302\n",
            "Epoch 6/20\n",
            "50000/50000 [==============================] - 15s 303us/step - loss: 0.8078 - acc: 0.7157 - val_loss: 0.7728 - val_acc: 0.7319\n",
            "Epoch 7/20\n",
            "50000/50000 [==============================] - 15s 304us/step - loss: 0.7668 - acc: 0.7285 - val_loss: 0.7624 - val_acc: 0.7334\n",
            "Epoch 8/20\n",
            "50000/50000 [==============================] - 15s 302us/step - loss: 0.7321 - acc: 0.7407 - val_loss: 0.7242 - val_acc: 0.7457\n",
            "Epoch 9/20\n",
            "50000/50000 [==============================] - 15s 303us/step - loss: 0.6963 - acc: 0.7547 - val_loss: 0.6985 - val_acc: 0.7577\n",
            "Epoch 10/20\n",
            "50000/50000 [==============================] - 15s 305us/step - loss: 0.6684 - acc: 0.7625 - val_loss: 0.6905 - val_acc: 0.7604\n",
            "Epoch 11/20\n",
            "50000/50000 [==============================] - 15s 303us/step - loss: 0.6395 - acc: 0.7732 - val_loss: 0.7117 - val_acc: 0.7544\n",
            "Epoch 12/20\n",
            "50000/50000 [==============================] - 15s 301us/step - loss: 0.6189 - acc: 0.7806 - val_loss: 0.6959 - val_acc: 0.7609\n",
            "Epoch 13/20\n",
            "50000/50000 [==============================] - 15s 302us/step - loss: 0.5924 - acc: 0.7887 - val_loss: 0.7230 - val_acc: 0.7503\n",
            "Epoch 14/20\n",
            "50000/50000 [==============================] - 15s 301us/step - loss: 0.5745 - acc: 0.7952 - val_loss: 0.6711 - val_acc: 0.7696\n",
            "Epoch 15/20\n",
            "50000/50000 [==============================] - 15s 300us/step - loss: 0.5564 - acc: 0.8021 - val_loss: 0.6952 - val_acc: 0.7694\n",
            "Epoch 16/20\n",
            "50000/50000 [==============================] - 15s 299us/step - loss: 0.5431 - acc: 0.8071 - val_loss: 0.6791 - val_acc: 0.7728\n",
            "Epoch 17/20\n",
            "50000/50000 [==============================] - 15s 297us/step - loss: 0.5186 - acc: 0.8170 - val_loss: 0.7110 - val_acc: 0.7560\n",
            "Epoch 18/20\n",
            "50000/50000 [==============================] - 15s 302us/step - loss: 0.5134 - acc: 0.8189 - val_loss: 0.6979 - val_acc: 0.7616\n",
            "Epoch 19/20\n",
            "50000/50000 [==============================] - 15s 298us/step - loss: 0.4993 - acc: 0.8240 - val_loss: 0.7050 - val_acc: 0.7694\n",
            "Epoch 20/20\n",
            "50000/50000 [==============================] - 15s 299us/step - loss: 0.4851 - acc: 0.8274 - val_loss: 0.6667 - val_acc: 0.7749\n"
          ],
          "name": "stdout"
        },
        {
          "output_type": "execute_result",
          "data": {
            "text/plain": [
              "<keras.callbacks.History at 0x7f9ea2609e80>"
            ]
          },
          "metadata": {
            "tags": []
          },
          "execution_count": 16
        }
      ]
    },
    {
      "metadata": {
        "id": "tDpEIcR-jn3N",
        "colab_type": "code",
        "outputId": "ce28a036-1626-4935-8c0e-80e7a9a3847f",
        "colab": {
          "base_uri": "https://localhost:8080/",
          "height": 68
        }
      },
      "cell_type": "code",
      "source": [
        "model.evaluate(x_train,y_train),model.evaluate(x_test,y_test)"
      ],
      "execution_count": 17,
      "outputs": [
        {
          "output_type": "stream",
          "text": [
            "50000/50000 [==============================] - 7s 135us/step\n",
            "10000/10000 [==============================] - 1s 143us/step\n"
          ],
          "name": "stdout"
        },
        {
          "output_type": "execute_result",
          "data": {
            "text/plain": [
              "([0.21593788519620896, 0.94122], [0.6667287351608276, 0.7749])"
            ]
          },
          "metadata": {
            "tags": []
          },
          "execution_count": 17
        }
      ]
    }
  ]
}